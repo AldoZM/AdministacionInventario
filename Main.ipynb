{
 "cells": [
  {
   "cell_type": "code",
   "execution_count": 16,
   "metadata": {},
   "outputs": [],
   "source": [
    "import tkinter as tk\n",
    "\n",
    "def agregar_producto():\n",
    "    # Código para agregar un producto (Asegúrate de que este código tenga la indentación correcta)\n",
    "    pass  # Puedes reemplazar 'pass' con el código real que deseas ejecutar en esta función\n",
    "\n",
    "def actualizar_inventario():\n",
    "    # Código para actualizar el inventario\n",
    "    pass\n",
    "\n",
    "def eliminar_producto():\n",
    "    # Código para eliminar un producto\n",
    "    pass\n",
    "\n",
    "def main():\n",
    "    # Crea la ventana principal\n",
    "    ventana = tk.Tk()\n",
    "    ventana.title(\"Aplicación de inventario\")\n",
    "\n",
    "    # Crea los botones\n",
    "    boton_agregar = tk.Button(ventana, text=\"Agregar\", command=agregar_producto)\n",
    "    boton_actualizar = tk.Button(ventana, text=\"Actualizar\", command=actualizar_inventario)\n",
    "    boton_eliminar = tk.Button(ventana, text=\"Eliminar\", command=eliminar_producto)\n",
    "\n",
    "    # Empaqueta los botones\n",
    "    boton_agregar.pack()\n",
    "    boton_actualizar.pack()\n",
    "    boton_eliminar.pack()\n",
    "\n",
    "    # Cambia el tamaño de la ventana\n",
    "    ventana.geometry(\"400x300\")\n",
    "\n",
    "    # Muestra la ventana principal\n",
    "    ventana.mainloop()\n",
    "\n",
    "if __name__ == \"__main__\":\n",
    "    main()\n"
   ]
  }
 ],
 "metadata": {
  "kernelspec": {
   "display_name": "Python 3",
   "language": "python",
   "name": "python3"
  },
  "language_info": {
   "codemirror_mode": {
    "name": "ipython",
    "version": 3
   },
   "file_extension": ".py",
   "mimetype": "text/x-python",
   "name": "python",
   "nbconvert_exporter": "python",
   "pygments_lexer": "ipython3",
   "version": "3.12.1"
  }
 },
 "nbformat": 4,
 "nbformat_minor": 2
}
