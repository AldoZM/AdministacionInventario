{
 "cells": [
  {
   "cell_type": "code",
   "execution_count": 4,
   "metadata": {},
   "outputs": [
    {
     "name": "stdout",
     "output_type": "stream",
     "text": [
      "Mostrando lista de productos en el inventario\n"
     ]
    }
   ],
   "source": [
    "import tkinter as tk\n",
    "from PIL import Image, ImageTk\n",
    "\n",
    "def agregar_producto():\n",
    "    # Código para agregar un producto\n",
    "    pass\n",
    "\n",
    "def actualizar_inventario():\n",
    "    # Código para actualizar el inventario\n",
    "    pass\n",
    "\n",
    "def eliminar_producto():\n",
    "    # Código para eliminar un producto\n",
    "    pass\n",
    "\n",
    "def mostrar_lista():\n",
    "    # Código para mostrar la lista de productos en el inventario\n",
    "    # Puedes implementar esta función según tus necesidades\n",
    "    print(\"Mostrando lista de productos en el inventario\")\n",
    "\n",
    "def ayuda():\n",
    "    # Código para mostrar la ayuda\n",
    "    # Puedes implementar esta función según tus necesidades\n",
    "    print(\"Mostrando ayuda\")\n",
    "\n",
    "def main():\n",
    "    # Crea la ventana principal\n",
    "    ventana = tk.Tk()\n",
    "    ventana.title(\"Aplicación de inventario\")\n",
    "\n",
    "    # Cambia el tamaño de la ventana\n",
    "    ventana.geometry(\"800x600\")\n",
    "\n",
    "    # Carga la imagen PNG utilizando Pillow\n",
    "    imagen_pillow = Image.open(\"MerialLogo.png\")\n",
    "\n",
    "    # Redimensiona la imagen para reducir la escala\n",
    "    imagen_pillow.thumbnail((500, 400))\n",
    "\n",
    "    # Convierte la imagen para que pueda ser usada por Tkinter\n",
    "    imagen_tk = ImageTk.PhotoImage(imagen_pillow)\n",
    "\n",
    "    # Crea un Label para mostrar la imagen\n",
    "    label_imagen = tk.Label(ventana, image=imagen_tk)\n",
    "    label_imagen.pack(pady=50)  # Ajusta pady según tus preferencias\n",
    "\n",
    "    # Crea un frame para los botones\n",
    "    frame_botones = tk.Frame(ventana)\n",
    "    frame_botones.pack(side=tk.BOTTOM, pady=(0, 60))  # Ajusta pady según tus preferencias\n",
    "\n",
    "    # Define una fuente para los botones\n",
    "    fuente_botones = (\"Arial\", 12)\n",
    "\n",
    "    # Crea los botones y únelos al frame\n",
    "    boton_agregar = tk.Button(frame_botones, text=\"Agregar\", command=agregar_producto, width=15, height=2, font=fuente_botones)\n",
    "    boton_actualizar = tk.Button(frame_botones, text=\"Actualizar\", command=actualizar_inventario, width=15, height=2, font=fuente_botones)\n",
    "    boton_eliminar = tk.Button(frame_botones, text=\"Eliminar\", command=eliminar_producto, width=15, height=2, font=fuente_botones)\n",
    "    boton_mostrar_lista = tk.Button(frame_botones, text=\"Mostrar Lista\", command=mostrar_lista, width=15, height=2, font=fuente_botones)\n",
    "\n",
    "    # Alinea los botones horizontalmente dentro del frame\n",
    "    boton_agregar.pack(side=tk.LEFT, padx=5, in_=frame_botones)\n",
    "    boton_actualizar.pack(side=tk.LEFT, padx=5, in_=frame_botones)\n",
    "    boton_eliminar.pack(side=tk.LEFT, padx=5, in_=frame_botones)\n",
    "    boton_mostrar_lista.pack(side=tk.LEFT, padx=5, in_=frame_botones)\n",
    "\n",
    "    # Crea un botón de ayuda\n",
    "    boton_ayuda = tk.Button(frame_botones, text=\"Ayuda\", command=ayuda, width=10, height=1, font=fuente_botones)\n",
    "    boton_ayuda.pack(side=tk.RIGHT, padx=10, pady=10)  # Alinea el botón a la derecha\n",
    "\n",
    "    # Muestra la ventana principal\n",
    "    ventana.mainloop()\n",
    "\n",
    "if __name__ == \"__main__\":\n",
    "    main()\n"
   ]
  },
  {
   "cell_type": "code",
   "execution_count": null,
   "metadata": {},
   "outputs": [],
   "source": []
  }
 ],
 "metadata": {
  "kernelspec": {
   "display_name": "Python 3",
   "language": "python",
   "name": "python3"
  },
  "language_info": {
   "codemirror_mode": {
    "name": "ipython",
    "version": 3
   },
   "file_extension": ".py",
   "mimetype": "text/x-python",
   "name": "python",
   "nbconvert_exporter": "python",
   "pygments_lexer": "ipython3",
   "version": "3.12.1"
  }
 },
 "nbformat": 4,
 "nbformat_minor": 2
}
